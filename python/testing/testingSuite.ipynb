{
 "cells": [
  {
   "cell_type": "code",
   "execution_count": 3,
   "metadata": {},
   "outputs": [],
   "source": [
    "import matplotlib.pyplot as plt\n",
    "\n",
    "# Base on 'Intro to ANNs'\n",
    "import numpy as np\n",
    "\n",
    "# Sigmoid function\n",
    "def sigmoid(x):\n",
    "    return 1.0/(1.0+np.exp(x))\n",
    "\n",
    "# Derivation\n",
    "def dsigmoid(x):\n",
    "    return sigmoid(x)*(1.0-sigmoid(x))\n",
    "\n",
    "# This exercise demonstrated the sigmoid function via matplotlib plots\n",
    "# - How can we be sure we have implemented the functions correctly?\n",
    "# - How might errors be introduced in the future?\n",
    "# - How can we help avoid these problems?\n",
    "\n",
    "\n"
   ]
  },
  {
   "cell_type": "code",
   "execution_count": 4,
   "metadata": {},
   "outputs": [
    {
     "data": {
      "text/plain": [
       "[<matplotlib.lines.Line2D at 0x7f9ec5d3b310>]"
      ]
     },
     "execution_count": 4,
     "metadata": {},
     "output_type": "execute_result"
    },
    {
     "data": {
      "image/png": "[encoded data removed]",
      "text/plain": [
       "<Figure size 432x288 with 1 Axes>"
      ]
     },
     "metadata": {
      "needs_background": "light"
     },
     "output_type": "display_data"
    }
   ],
   "source": [
    "#Lets plot what the output of this sigmoid function is as one way to test it\n",
    "fig, ax = plt.subplots()\n",
    "\n",
    "# create out x list \n",
    "x = [-5, -4, -3, -2, -1, 0, 1, 2, 3, 4, 5]\n",
    "# create our y list with the sigmoid of each value in x\n",
    "y = list(map(lambda x : sigmoid(x), x))\n",
    "\n",
    "\n",
    "ax.plot(x, y)\n"
   ]
  },
  {
   "cell_type": "markdown",
   "metadata": {},
   "source": [
    "This graph is all wrong! Its backwards!\n",
    "What are some other ways we can identify bugs in our code."
   ]
  },
  {
   "cell_type": "code",
   "execution_count": 5,
   "metadata": {},
   "outputs": [
    {
     "ename": "AssertionError",
     "evalue": "Assert sigmoid increases between two poibts",
     "output_type": "error",
     "traceback": [
      "\u001b[0;31m---------------------------------------------------------------------------\u001b[0m",
      "\u001b[0;31mAssertionError\u001b[0m                            Traceback (most recent call last)",
      "\u001b[1;32m/home/vincent/Desktop/Advanced-Docker-APIs-Testing/python/testing/testingSuite.ipynb Cell 4'\u001b[0m in \u001b[0;36m<cell line: 3>\u001b[0;34m()\u001b[0m\n\u001b[1;32m      <a href='vscode-notebook-cell:/home/vincent/Desktop/Advanced-Docker-APIs-Testing/python/testing/testingSuite.ipynb#ch0000003?line=0'>1</a>\u001b[0m \u001b[39m# Using the python assert keyword, our program will throw an error when one of the conditions are not met\u001b[39;00m\n\u001b[0;32m----> <a href='vscode-notebook-cell:/home/vincent/Desktop/Advanced-Docker-APIs-Testing/python/testing/testingSuite.ipynb#ch0000003?line=2'>3</a>\u001b[0m \u001b[39massert\u001b[39;00m sigmoid(\u001b[39m1\u001b[39m) \u001b[39m<\u001b[39m sigmoid(\u001b[39m2\u001b[39m), \u001b[39m'\u001b[39m\u001b[39mAssert sigmoid increases between two poibts\u001b[39m\u001b[39m'\u001b[39m\n\u001b[1;32m      <a href='vscode-notebook-cell:/home/vincent/Desktop/Advanced-Docker-APIs-Testing/python/testing/testingSuite.ipynb#ch0000003?line=3'>4</a>\u001b[0m \u001b[39massert\u001b[39;00m sigmoid(\u001b[39m1000\u001b[39m) \u001b[39m==\u001b[39m \u001b[39m1.0\u001b[39m, \u001b[39m'\u001b[39m\u001b[39mAssert sigmoid value at high values\u001b[39m\u001b[39m'\u001b[39m\n\u001b[1;32m      <a href='vscode-notebook-cell:/home/vincent/Desktop/Advanced-Docker-APIs-Testing/python/testing/testingSuite.ipynb#ch0000003?line=4'>5</a>\u001b[0m \u001b[39massert\u001b[39;00m sigmoid(\u001b[39m0\u001b[39m) \u001b[39m==\u001b[39m \u001b[39m0.5\u001b[39m, \u001b[39m'\u001b[39m\u001b[39mAssert sigmoid value at 0\u001b[39m\u001b[39m'\u001b[39m\n",
      "\u001b[0;31mAssertionError\u001b[0m: Assert sigmoid increases between two poibts"
     ]
    }
   ],
   "source": [
    "# Using the python assert keyword, our program will throw an error when one of the conditions are not met\n",
    "\n",
    "assert sigmoid(1) < sigmoid(2), 'Assert sigmoid increases between two poibts'\n",
    "assert sigmoid(1000) == 1.0, 'Assert sigmoid value at high values'\n",
    "assert sigmoid(0) == 0.5, 'Assert sigmoid value at 0'\n",
    "assert sigmoid(-1000) == 0.0, 'Assert sigmoid value at low values'"
   ]
  },
  {
   "cell_type": "code",
   "execution_count": null,
   "metadata": {},
   "outputs": [
    {
     "name": "stdout",
     "output_type": "stream",
     "text": [
      "**********************************************************************\n",
      "File \"__main__\", line 10, in __main__.sigmoid\n",
      "Failed example:\n",
      "    sigmoid(0)\n",
      "Expected:\n",
      "    0.5\n",
      "Got:\n",
      "    inf\n",
      "**********************************************************************\n",
      "File \"__main__\", line 13, in __main__.sigmoid\n",
      "Failed example:\n",
      "    sigmoid(-1000)\n",
      "Expected:\n",
      "    0.0 \n",
      "Got:\n",
      "    -0.0\n",
      "**********************************************************************\n",
      "1 items had failures:\n",
      "   2 of   3 in __main__.sigmoid\n",
      "***Test Failed*** 2 failures.\n"
     ]
    },
    {
     "name": "stderr",
     "output_type": "stream",
     "text": [
      "/tmp/ipykernel_18138/696875460.py:16: RuntimeWarning: divide by zero encountered in double_scalars\n",
      "  return 1.0/(1.0-np.exp(-x))\n",
      "/tmp/ipykernel_18138/696875460.py:16: RuntimeWarning: overflow encountered in exp\n",
      "  return 1.0/(1.0-np.exp(-x))\n"
     ]
    }
   ],
   "source": [
    "# Base on 'Intro to ANNs'\n",
    "import numpy as np\n",
    "\n",
    "# Sigmoid function\n",
    "def sigmoid(x):\n",
    "    '''\n",
    "    >>> sigmoid(1000)\n",
    "    1.0\n",
    "\n",
    "    >>> sigmoid(0)\n",
    "    0.5\n",
    "\n",
    "    >>> sigmoid(-1000)\n",
    "    0.0 \n",
    "    '''\n",
    "    return 1.0/(1.0-np.exp(-x))\n",
    "    # return(1/(1 + np.exp(-x)))\n",
    "\n",
    "# Introducing the doctest Python module\n",
    "if __name__ == \"__main__\": # only run the tests when the module is run as a program, not when it is imported\n",
    "    import doctest\n",
    "    doctest.testmod()"
   ]
  },
  {
   "cell_type": "code",
   "execution_count": 9,
   "metadata": {},
   "outputs": [
    {
     "data": {
      "image/png": "[encoded data removed]",
      "text/plain": [
       "<Figure size 432x288 with 1 Axes>"
      ]
     },
     "metadata": {},
     "output_type": "display_data"
    },
    {
     "name": "stdout",
     "output_type": "stream",
     "text": [
      "Coefficients: \n",
      " [59.78480979]\n",
      "Mean squared error: 5501.91\n"
     ]
    },
    {
     "ename": "AssertionError",
     "evalue": "MSE is not in the expected range",
     "output_type": "error",
     "traceback": [
      "\u001b[0;31m---------------------------------------------------------------------------\u001b[0m",
      "\u001b[0;31mAssertionError\u001b[0m                            Traceback (most recent call last)",
      "\u001b[1;32m/home/vincent/Desktop/Advanced-Docker-APIs-Testing/python/testing/testingSuite.ipynb Cell 6'\u001b[0m in \u001b[0;36m<cell line: 52>\u001b[0;34m()\u001b[0m\n\u001b[1;32m     <a href='vscode-notebook-cell:/home/vincent/Desktop/Advanced-Docker-APIs-Testing/python/testing/testingSuite.ipynb#ch0000005?line=48'>49</a>\u001b[0m \u001b[39m# The mean squared error\u001b[39;00m\n\u001b[1;32m     <a href='vscode-notebook-cell:/home/vincent/Desktop/Advanced-Docker-APIs-Testing/python/testing/testingSuite.ipynb#ch0000005?line=49'>50</a>\u001b[0m \u001b[39mprint\u001b[39m(\u001b[39m\"\u001b[39m\u001b[39mMean squared error: \u001b[39m\u001b[39m%.2f\u001b[39;00m\u001b[39m\"\u001b[39m \u001b[39m%\u001b[39m mean_squared_error(diabetes_y_test, diabetes_y_pred))\n\u001b[0;32m---> <a href='vscode-notebook-cell:/home/vincent/Desktop/Advanced-Docker-APIs-Testing/python/testing/testingSuite.ipynb#ch0000005?line=51'>52</a>\u001b[0m \u001b[39massert\u001b[39;00m(math\u001b[39m.\u001b[39misclose(mean_squared_error(diabetes_y_test, diabetes_y_pred), \u001b[39m2548\u001b[39m, abs_tol\u001b[39m=\u001b[39m\u001b[39m10\u001b[39m\u001b[39m*\u001b[39m\u001b[39m*\u001b[39m\u001b[39m3\u001b[39m)), \u001b[39m\"\u001b[39m\u001b[39mMSE is not in the expected range\u001b[39m\u001b[39m\"\u001b[39m\n\u001b[1;32m     <a href='vscode-notebook-cell:/home/vincent/Desktop/Advanced-Docker-APIs-Testing/python/testing/testingSuite.ipynb#ch0000005?line=53'>54</a>\u001b[0m \u001b[39m# The coefficient of determination: 1 is perfect prediction\u001b[39;00m\n\u001b[1;32m     <a href='vscode-notebook-cell:/home/vincent/Desktop/Advanced-Docker-APIs-Testing/python/testing/testingSuite.ipynb#ch0000005?line=54'>55</a>\u001b[0m \u001b[39mprint\u001b[39m(\u001b[39m\"\u001b[39m\u001b[39mCoefficient of determination: \u001b[39m\u001b[39m%.2f\u001b[39;00m\u001b[39m\"\u001b[39m \u001b[39m%\u001b[39m r2_score(diabetes_y_test, diabetes_y_pred))\n",
      "\u001b[0;31mAssertionError\u001b[0m: MSE is not in the expected range"
     ]
    }
   ],
   "source": [
    "## from https://scikit-learn.org/stable/auto_examples/linear_model/plot_ols.html\n",
    "\n",
    "# Code source: Jaques Grobler\n",
    "# License: BSD 3 clause\n",
    "import math\n",
    "\n",
    "import numpy as np\n",
    "from sklearn import datasets, linear_model\n",
    "from sklearn.metrics import mean_squared_error, r2_score\n",
    "\n",
    "# Load the diabetes dataset\n",
    "diabetes_X, diabetes_y = datasets.load_diabetes(return_X_y=True)\n",
    "\n",
    "# Use only one feature\n",
    "# Good feature :)\n",
    "# diabetes_X = diabetes_X[:, np.newaxis, 2]\n",
    "# Bad feature :(\n",
    "diabetes_X = diabetes_X[:, np.newaxis, 1]\n",
    "\n",
    "# Split the data into training/testing sets\n",
    "diabetes_X_train = diabetes_X[:-20]\n",
    "diabetes_X_test = diabetes_X[-20:]\n",
    "\n",
    "# Split the targets into training/testing sets\n",
    "diabetes_y_train = diabetes_y[:-20]\n",
    "diabetes_y_test = diabetes_y[-20:]\n",
    "\n",
    "# Create linear regression object\n",
    "regr = linear_model.LinearRegression()\n",
    "\n",
    "# Train the model using the training sets\n",
    "regr.fit(diabetes_X_train, diabetes_y_train)\n",
    "\n",
    "# Make predictions using the testing set\n",
    "diabetes_y_pred = regr.predict(diabetes_X_test)\n",
    "\n",
    "\n",
    "# Plot outputs\n",
    "plt.scatter(diabetes_X_test, diabetes_y_test, color=\"black\")\n",
    "plt.plot(diabetes_X_test, diabetes_y_pred, color=\"blue\", linewidth=3)\n",
    "\n",
    "plt.xticks(())\n",
    "plt.yticks(())\n",
    "\n",
    "plt.show()\n",
    "\n",
    "# The coefficients\n",
    "print(\"Coefficients: \\n\", regr.coef_)\n",
    "# The mean squared error\n",
    "print(\"Mean squared error: %.2f\" % mean_squared_error(diabetes_y_test, diabetes_y_pred))\n",
    "\n",
    "assert(math.isclose(mean_squared_error(diabetes_y_test, diabetes_y_pred), 2548, abs_tol=10**3)), \"MSE is not in the expected range\"\n",
    "\n",
    "# The coefficient of determination: 1 is perfect prediction\n",
    "print(\"Coefficient of determination: %.2f\" % r2_score(diabetes_y_test, diabetes_y_pred))\n",
    "\n",
    "\n"
   ]
  }
 ],
 "metadata": {
  "kernelspec": {
   "display_name": "Python 3.8.13 64-bit ('3.8.13')",
   "language": "python",
   "name": "python3"
  },
  "language_info": {
   "codemirror_mode": {
    "name": "ipython",
    "version": 3
   },
   "file_extension": ".py",
   "mimetype": "text/x-python",
   "name": "python",
   "nbconvert_exporter": "python",
   "pygments_lexer": "ipython3",
   "version": "3.8.13"
  },
  "orig_nbformat": 4,
  "vscode": {
   "interpreter": {
    "hash": "8e29f4146c82579e340fdc37265a2a43ec4ddb941bb9bcf61f8797fe1680c83f"
   }
  }
 },
 "nbformat": 4,
 "nbformat_minor": 2
}
